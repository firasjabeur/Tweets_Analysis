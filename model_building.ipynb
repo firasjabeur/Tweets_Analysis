{
 "cells": [
  {
   "cell_type": "code",
   "execution_count": 23,
   "id": "c2c8c8de",
   "metadata": {},
   "outputs": [],
   "source": [
    "import pandas as pd\n",
    "import numpy as np \n",
    "import matplotlib.pyplot as plt\n",
    "import re"
   ]
  },
  {
   "cell_type": "code",
   "execution_count": 24,
   "id": "5398d984",
   "metadata": {},
   "outputs": [],
   "source": [
    "df = pd.read_csv('train.csv', encoding='ISO-8859-1')"
   ]
  },
  {
   "cell_type": "code",
   "execution_count": 25,
   "id": "655cf874",
   "metadata": {},
   "outputs": [
    {
     "data": {
      "text/html": [
       "<div>\n",
       "<style scoped>\n",
       "    .dataframe tbody tr th:only-of-type {\n",
       "        vertical-align: middle;\n",
       "    }\n",
       "\n",
       "    .dataframe tbody tr th {\n",
       "        vertical-align: top;\n",
       "    }\n",
       "\n",
       "    .dataframe thead th {\n",
       "        text-align: right;\n",
       "    }\n",
       "</style>\n",
       "<table border=\"1\" class=\"dataframe\">\n",
       "  <thead>\n",
       "    <tr style=\"text-align: right;\">\n",
       "      <th></th>\n",
       "      <th>0</th>\n",
       "      <th>1467810369</th>\n",
       "      <th>Mon Apr 06 22:19:45 PDT 2009</th>\n",
       "      <th>NO_QUERY</th>\n",
       "      <th>_TheSpecialOne_</th>\n",
       "      <th>@switchfoot http://twitpic.com/2y1zl - Awww, that's a bummer.  You shoulda got David Carr of Third Day to do it. ;D</th>\n",
       "    </tr>\n",
       "  </thead>\n",
       "  <tbody>\n",
       "    <tr>\n",
       "      <th>0</th>\n",
       "      <td>0</td>\n",
       "      <td>1467810672</td>\n",
       "      <td>Mon Apr 06 22:19:49 PDT 2009</td>\n",
       "      <td>NO_QUERY</td>\n",
       "      <td>scotthamilton</td>\n",
       "      <td>is upset that he can't update his Facebook by ...</td>\n",
       "    </tr>\n",
       "    <tr>\n",
       "      <th>1</th>\n",
       "      <td>0</td>\n",
       "      <td>1467810917</td>\n",
       "      <td>Mon Apr 06 22:19:53 PDT 2009</td>\n",
       "      <td>NO_QUERY</td>\n",
       "      <td>mattycus</td>\n",
       "      <td>@Kenichan I dived many times for the ball. Man...</td>\n",
       "    </tr>\n",
       "    <tr>\n",
       "      <th>2</th>\n",
       "      <td>0</td>\n",
       "      <td>1467811184</td>\n",
       "      <td>Mon Apr 06 22:19:57 PDT 2009</td>\n",
       "      <td>NO_QUERY</td>\n",
       "      <td>ElleCTF</td>\n",
       "      <td>my whole body feels itchy and like its on fire</td>\n",
       "    </tr>\n",
       "    <tr>\n",
       "      <th>3</th>\n",
       "      <td>0</td>\n",
       "      <td>1467811193</td>\n",
       "      <td>Mon Apr 06 22:19:57 PDT 2009</td>\n",
       "      <td>NO_QUERY</td>\n",
       "      <td>Karoli</td>\n",
       "      <td>@nationwideclass no, it's not behaving at all....</td>\n",
       "    </tr>\n",
       "    <tr>\n",
       "      <th>4</th>\n",
       "      <td>0</td>\n",
       "      <td>1467811372</td>\n",
       "      <td>Mon Apr 06 22:20:00 PDT 2009</td>\n",
       "      <td>NO_QUERY</td>\n",
       "      <td>joy_wolf</td>\n",
       "      <td>@Kwesidei not the whole crew</td>\n",
       "    </tr>\n",
       "  </tbody>\n",
       "</table>\n",
       "</div>"
      ],
      "text/plain": [
       "   0  1467810369  Mon Apr 06 22:19:45 PDT 2009  NO_QUERY _TheSpecialOne_  \\\n",
       "0  0  1467810672  Mon Apr 06 22:19:49 PDT 2009  NO_QUERY   scotthamilton   \n",
       "1  0  1467810917  Mon Apr 06 22:19:53 PDT 2009  NO_QUERY        mattycus   \n",
       "2  0  1467811184  Mon Apr 06 22:19:57 PDT 2009  NO_QUERY         ElleCTF   \n",
       "3  0  1467811193  Mon Apr 06 22:19:57 PDT 2009  NO_QUERY          Karoli   \n",
       "4  0  1467811372  Mon Apr 06 22:20:00 PDT 2009  NO_QUERY        joy_wolf   \n",
       "\n",
       "  @switchfoot http://twitpic.com/2y1zl - Awww, that's a bummer.  You shoulda got David Carr of Third Day to do it. ;D  \n",
       "0  is upset that he can't update his Facebook by ...                                                                   \n",
       "1  @Kenichan I dived many times for the ball. Man...                                                                   \n",
       "2    my whole body feels itchy and like its on fire                                                                    \n",
       "3  @nationwideclass no, it's not behaving at all....                                                                   \n",
       "4                      @Kwesidei not the whole crew                                                                    "
      ]
     },
     "execution_count": 25,
     "metadata": {},
     "output_type": "execute_result"
    }
   ],
   "source": [
    "df.head()"
   ]
  },
  {
   "cell_type": "code",
   "execution_count": 29,
   "id": "6252473c",
   "metadata": {},
   "outputs": [
    {
     "data": {
      "text/plain": [
       "Index(['target', 'ids', 'date', 'flag', 'user', 'text'], dtype='object')"
      ]
     },
     "execution_count": 29,
     "metadata": {},
     "output_type": "execute_result"
    }
   ],
   "source": [
    "df.columns"
   ]
  },
  {
   "cell_type": "code",
   "execution_count": 27,
   "id": "6ef8ed12",
   "metadata": {},
   "outputs": [],
   "source": [
    "new_columns = {\n",
    "    '0': 'target',\n",
    "    '1467810369': 'ids',\n",
    "    'Mon Apr 06 22:19:45 PDT 2009': 'date',\n",
    "    'NO_QUERY': 'flag',\n",
    "    '_TheSpecialOne_': 'user',\n",
    "    \"@switchfoot http://twitpic.com/2y1zl - Awww, that's a bummer.  You shoulda got David Carr of Third Day to do it. ;D\" : 'text'\n",
    "}\n",
    "\n",
    "# Utilisez la méthode rename pour renommer les colonnes\n",
    "df.rename(columns=new_columns, inplace=True)"
   ]
  },
  {
   "cell_type": "code",
   "execution_count": 28,
   "id": "0ac3829f",
   "metadata": {},
   "outputs": [
    {
     "data": {
      "text/plain": [
       "target\n",
       "4    800000\n",
       "0    799999\n",
       "Name: count, dtype: int64"
      ]
     },
     "execution_count": 28,
     "metadata": {},
     "output_type": "execute_result"
    }
   ],
   "source": [
    "df.target.value_counts()"
   ]
  },
  {
   "cell_type": "code",
   "execution_count": 94,
   "id": "e6161deb",
   "metadata": {},
   "outputs": [],
   "source": [
    "def remove_user(text):\n",
    "    return re.sub(r'@\\w+','',text)\n",
    "def remove_url(text):\n",
    "    return re.sub(r'http\\S+|www\\S+|https\\S+','',text)\n",
    "def remove_hashtag(text):\n",
    "    return re.sub(r'#[\\S]+','',text)\n",
    "def remove_occurence(text):\n",
    "    return re.sub(r'(.)\\1{2,}','', text)\n",
    "def remove_special_caracter(text):\n",
    "    return re.sub('[^\\w\\s,!?\\.]','',text)\n"
   ]
  },
  {
   "cell_type": "code",
   "execution_count": 77,
   "id": "93674a70",
   "metadata": {},
   "outputs": [],
   "source": [
    "df['text'] = df['text'].apply(remove_user)"
   ]
  },
  {
   "cell_type": "code",
   "execution_count": 82,
   "id": "b881bdbd",
   "metadata": {},
   "outputs": [],
   "source": [
    "pd.set_option('display.max_colwidth', None)"
   ]
  },
  {
   "cell_type": "code",
   "execution_count": 79,
   "id": "0f703c1f",
   "metadata": {},
   "outputs": [],
   "source": [
    "df['text'] = df.text.apply(remove_url)"
   ]
  },
  {
   "cell_type": "code",
   "execution_count": 80,
   "id": "c560e861",
   "metadata": {},
   "outputs": [],
   "source": [
    "df['text'] = df.text.apply(remove_hashtag)"
   ]
  },
  {
   "cell_type": "code",
   "execution_count": 90,
   "id": "8a09afdf",
   "metadata": {},
   "outputs": [],
   "source": [
    "df['text'] = df.text.apply(remove_occurence)"
   ]
  },
  {
   "cell_type": "code",
   "execution_count": 95,
   "id": "9fb1ffdb",
   "metadata": {},
   "outputs": [],
   "source": [
    "df['text'] = df.text.apply(remove_special_caracter)"
   ]
  },
  {
   "cell_type": "code",
   "execution_count": 96,
   "id": "e54d529d",
   "metadata": {},
   "outputs": [
    {
     "data": {
      "text/plain": [
       "600                                                                        yeah  it was really depressing stuff like that gets to me\n",
       "601                                                                  No problem, tongueincheek remark.  Lots of acronyms, but no NZ \n",
       "602                                              hey you said matt was gonna go all ballistic i was disappointed  good ep tho mostly\n",
       "603                                                                   ugh horrible ending to the sandra kantu story  prayers go out.\n",
       "604                                             I hate 2 B allergic  i want a puppy soo bad that ive already thought some cool names\n",
       "605    Morning folks 7.00 am ..yawn! Up amp away to see to horses  hope Twitter is better behaved today!  Last night was a travesty \n",
       "606                                                                                                                I miss mine too! \n",
       "607                                                             Sorry to hear about your loss.There have been many this year so far.\n",
       "608                                                                                                        Gossip Girl was a repeat \n",
       "609                                                                                                                        I reckon \n",
       "610                                                                                           finding it really hard to use twitter \n",
       "611                                                                                       Ive been stuck in this house for two days \n",
       "612                                                                                      is really sad and doesnt really know y!!?? \n",
       "613                                                                                                                              no \n",
       "614                                                         Maybe one of these years Ill get a tax return.  A girl can dream, right?\n",
       "615                                                                            Back at work, tired as hell and i feel a cold coming \n",
       "616                                                                                               APRIL 9TH ISNT COMING SOON ENOUGH \n",
       "617                       cream for his eye and he may have herpes  not ocular herpes, but a different strain.Hes doing okay though.\n",
       "618                                                       gotta repeat  whole art folio cuz old one with a whole terms work got wet \n",
       "619                                                                              Im ready for the weekend already. Its only Monday. \n",
       "620                umm nope..think im an insomniac ..plus i got the flui be sleepin like a phuckin fish outta water any minute now! \n",
       "621                                                                      has Finland sleeping for the night, not really enough time \n",
       "622                                                  cant wait to try em but prolly have to wait until next weekend at the earliest \n",
       "623                                                                                    Shiner is taking up all my bed and blankets! \n",
       "624                                                                                               APRIL 9TH ISNT COMING SOON ENOUGH \n",
       "625                                                                                                                    wants to cry \n",
       "626                                                                             I need to go to the bank tomorrow before I go broke \n",
       "627                              This earthquake in italy has me sadden.  its only three hours away from naples, where my family is \n",
       "628                                                                  i should be sleeping, i have a stressed out week coming to me. \n",
       "629                                                             YeaI am working tp hack my server to do the 12player thing for folks\n",
       "630                                                                                     has hurt her ankle!! and is going to the dr \n",
       "631                     oh noes. how did you manage to send something to the trash can AND empty it without noticing! i feel for ya \n",
       "632        Lost my free copy of radioactive so cant put it on my ipod grr!And i cant go out  buy nother coz it came with that paper \n",
       "633                                                                                                              doing make up shit \n",
       "634                                                                                             Photoshop, I hate it when you crash \n",
       "635                                                                                                   vacations makes me feel sick! \n",
       "636                                                                                                          you shouldnt have gone \n",
       "637                                                    listening to Murd and 9th wonder just chillen out missing my crazy sex life  \n",
       "638                                                                                                  shooting!?!! be careful, luisa \n",
       "639                                   Im sure everyone has ruined my gift to you  Whitney has my serious Cell  doing easter as well?\n",
       "640                                                                                                is at Beso in Hollywood so tired \n",
       "641                                                                          I dont want to wake up early tomorrow.  Damn you, work!\n",
       "642                                                              just finished watching the movie Prayers for Bobby. Broke my heart \n",
       "643                                                                                                        is myki really horrible? \n",
       "644                                                                          i had 2 put my dog down today too  someone ran her over\n",
       "645                                           Sorry to hear about your DNF run tonight. Always a risk to get bad coords on an FTF!! \n",
       "646         I did get some disgruntled people when I wrote my ESN, but the 1 hits in one day made up for it. Bill pulls in 250 tops \n",
       "647                                                                   OHH! OMG. LMAO. Im crying right now, LOL! KUTNE was the best! \n",
       "648                                  came back from running and took a showerwhy does my lower stomach still hurt after exercising? \n",
       "649                                                                 watching Fallon with mom and working on a projectschool is hard \n",
       "Name: text, dtype: object"
      ]
     },
     "execution_count": 96,
     "metadata": {},
     "output_type": "execute_result"
    }
   ],
   "source": [
    "df.text[600:650]"
   ]
  },
  {
   "cell_type": "code",
   "execution_count": null,
   "id": "7028efdc",
   "metadata": {},
   "outputs": [],
   "source": []
  },
  {
   "cell_type": "code",
   "execution_count": null,
   "id": "78e8953a",
   "metadata": {},
   "outputs": [],
   "source": []
  },
  {
   "cell_type": "code",
   "execution_count": null,
   "id": "e34dceda",
   "metadata": {},
   "outputs": [],
   "source": []
  }
 ],
 "metadata": {
  "kernelspec": {
   "display_name": "Python 3 (ipykernel)",
   "language": "python",
   "name": "python3"
  },
  "language_info": {
   "codemirror_mode": {
    "name": "ipython",
    "version": 3
   },
   "file_extension": ".py",
   "mimetype": "text/x-python",
   "name": "python",
   "nbconvert_exporter": "python",
   "pygments_lexer": "ipython3",
   "version": "3.11.4"
  }
 },
 "nbformat": 4,
 "nbformat_minor": 5
}
